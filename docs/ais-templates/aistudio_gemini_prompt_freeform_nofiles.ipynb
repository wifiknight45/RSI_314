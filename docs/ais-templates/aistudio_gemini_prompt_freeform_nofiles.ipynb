{
  "cells": [
    {
      "cell_type": "markdown",
      "metadata": {
        "id": "Tce3stUlHN0L"
      },
      "source": [
        "##### Copyright 2023 Google LLC"
      ]
    },
    {
      "cell_type": "code",
      "execution_count": null,
      "metadata": {
        "cellView": "form",
        "id": "tuOe1ymfHZPu"
      },
      "outputs": [],
      "source": [
        "# @title Licensed under the Apache License, Version 2.0 (the \"License\");\n",
        "# you may not use this file except in compliance with the License.\n",
        "# You may obtain a copy of the License at\n",
        "#\n",
        "# https://www.apache.org/licenses/LICENSE-2.0\n",
        "#\n",
        "# Unless required by applicable law or agreed to in writing, software\n",
        "# distributed under the License is distributed on an \"AS IS\" BASIS,\n",
        "# WITHOUT WARRANTIES OR CONDITIONS OF ANY KIND, either express or implied.\n",
        "# See the License for the specific language governing permissions and\n",
        "# limitations under the License."
      ]
    },
    {
      "cell_type": "markdown",
      "metadata": {
        "id": "FKwyTRdwB8aW"
      },
      "source": [
        "## Setup"
      ]
    },
    {
      "cell_type": "code",
      "source": [],
      "metadata": {
        "id": "Qk8XXvmR3_iG"
      },
      "execution_count": null,
      "outputs": []
    },
    {
      "cell_type": "code",
      "source": [],
      "metadata": {
        "id": "dWNUtaUt4Qzf"
      },
      "execution_count": null,
      "outputs": []
    },
    {
      "cell_type": "code",
      "execution_count": null,
      "metadata": {
        "id": "RXInneX6xx7c"
      },
      "outputs": [],
      "source": [
        "!pip install -U -q \"google-generativeai>=0.8.2\""
      ]
    },
    {
      "cell_type": "code",
      "execution_count": null,
      "metadata": {
        "cellView": "form",
        "id": "kWIuwKG2_oWE"
      },
      "outputs": [],
      "source": [
        "# import necessary modules.\n",
        "\n",
        "import google.generativeai as genai\n",
        "\n",
        "import base64\n",
        "import json\n",
        "\n",
        "try:\n",
        "    # Mount google drive\n",
        "    from google.colab import drive\n",
        "\n",
        "    drive.mount(\"/gdrive\")\n",
        "\n",
        "    # The SDK will automatically read it from the GOOGLE_API_KEY environment variable.\n",
        "    # In Colab get the key from Colab-secrets (\"🔑\" in the left panel).\n",
        "    import os\n",
        "    from google.colab import userdata\n",
        "\n",
        "    os.environ[\"GOOGLE_API_KEY\"] = userdata.get(\"GOOGLE_API_KEY\")\n",
        "except ImportError:\n",
        "    pass\n",
        "\n",
        "# Parse the arguments\n",
        "\n",
        "model = \"gemini-1.5-flash\"  # @param {isTemplate: true}\n",
        "contents_b64 = b'W3sicGFydHMiOiBbeyJ0ZXh0IjogIkhlbGxvIn1dfV0='\n",
        "generation_config_b64 = \"e30=\"  # @param {isTemplate: true}\n",
        "safety_settings_b64 = \"e30=\"  # @param {isTemplate: true}\n",
        "\n",
        "contents = json.loads(base64.b64decode(contents_b64))\n",
        "\n",
        "generation_config = json.loads(base64.b64decode(generation_config_b64))\n",
        "safety_settings = json.loads(base64.b64decode(safety_settings_b64))\n",
        "\n",
        "stream = False\n",
        "\n",
        "print(json.dumps(contents, indent=4))"
      ]
    },
    {
      "cell_type": "markdown",
      "metadata": {
        "id": "E7zAD69vE92b"
      },
      "source": [
        "## Call `generate_content`"
      ]
    },
    {
      "cell_type": "code",
      "execution_count": 4,
      "metadata": {
        "id": "LB2LxPmAB95V",
        "outputId": "0eef3db0-33b6-43b6-bda6-58a96aeba0dc",
        "colab": {
          "base_uri": "https://localhost:8080/",
          "height": 129
        }
      },
      "outputs": [
        {
          "output_type": "error",
          "ename": "IndentationError",
          "evalue": "expected an indented block after function definition on line 32 (<ipython-input-4-6c18581d8768>, line 35)",
          "traceback": [
            "\u001b[0;36m  File \u001b[0;32m\"<ipython-input-4-6c18581d8768>\"\u001b[0;36m, line \u001b[0;32m35\u001b[0m\n\u001b[0;31m    def encrypt_changelog(self, data):\u001b[0m\n\u001b[0m    ^\u001b[0m\n\u001b[0;31mIndentationError\u001b[0m\u001b[0;31m:\u001b[0m expected an indented block after function definition on line 32\n"
          ]
        }
      ],
      "source": [
        "import google.generativeai as genai\n",
        "\n",
        "#!/usr/bin/env python3\n",
        "\n",
        "import argparse\n",
        "import socket\n",
        "import threading\n",
        "import time\n",
        "import os\n",
        "import hashlib\n",
        "import secrets\n",
        "import logging\n",
        "import base64\n",
        "import uuid\n",
        "from cryptography.hazmat.primitives import hashes, serialization\n",
        "from cryptography.hazmat.primitives.asymmetric import ec, rsa\n",
        "from cryptography.hazmat.primitives.kdf.pbkdf2 import PBKDF2HMAC\n",
        "from cryptography.hazmat.primitives.ciphers import Cipher, algorithms, modes\n",
        "from cryptography.hazmat.backends import default_backend\n",
        "import signal_protocol  # Assume you've installed the signal-protocol-python library\n",
        "\n",
        "# Configure logging\n",
        "logging.basicConfig(filename='secure_scanner.log', level=logging.INFO,\n",
        "                    format='%(asctime)s - %(levelname)s - %(message)s')\n",
        "logger = logging.getLogger(__name__)\n",
        "\n",
        "class SecurePortScanner:\n",
        "    def __init__(self):\n",
        "        # ... (ECC key generation and other initialization) ...\n",
        "        self.signal_store = signal_protocol.InMemoryStore()  # Or a persistent store\n",
        "\n",
        "    def generate_changelog_key(self):\n",
        "        # ... (same as before) ...\n",
        "\n",
        "    def encrypt_changelog(self, data):\n",
        "        # ... (same as before) ...\n",
        "\n",
        "    def generate_user_credentials(self):\n",
        "        # ... (same as before) ...\n",
        "\n",
        "    def scan_port(self, host, port, timeout=1):\n",
        "        try:\n",
        "            # ... (original code) ...\n",
        "        except socket.timeout:\n",
        "            logger.warning(f\"Timeout scanning port {port} on {host}\")\n",
        "            return port, False  # Consider retry logic\n",
        "        except ConnectionRefusedError:\n",
        "            logger.info(f\"Connection refused to port {port} on {host}\")\n",
        "            return port, False\n",
        "        except OSError as e:\n",
        "            logger.error(f\"OSError scanning port {port} on {host}: {e}\")\n",
        "            # ... (handle critical error, potentially stop scanning) ...\n",
        "        except Exception as e:\n",
        "            logger.exception(f\"Unexpected error scanning port {port} on {host}: {e}\")\n",
        "            # ... (handle or re-raise) ...\n",
        "\n",
        "    def port_scan(self, host, start_port, end_port):\n",
        "        # ... (same as before) ...\n",
        "\n",
        "    def encrypted_chat_server(self, host='0.0.0.0', port=8888):\n",
        "        # ... (create server socket) ...\n",
        "\n",
        "        while True:\n",
        "            client, addr = server.accept()\n",
        "            threading.Thread(target=self.handle_client, args=(client, addr)).start()\n",
        "\n",
        "    def handle_client(self, client, addr):\n",
        "        \"\"\"Handle chat client connection with Signal Protocol\"\"\"\n",
        "        try:\n",
        "            # ... (establish Signal Protocol session) ...\n",
        "            recipient_id = \"recipient_id\"  # Replace with actual recipient ID\n",
        "            device_id = 1  # Replace with actual device ID\n",
        "            session_builder = signal_protocol.SessionBuilder(self.signal_store, recipient_id, device_id)\n",
        "            # ... (exchange pre-keys, establish session) ...\n",
        "            session_cipher = signal_protocol.SessionCipher(self.signal_store, recipient_id, device_id)\n",
        "\n",
        "            while True:\n",
        "                try:\n",
        "                    data = client.recv(1024)\n",
        "                    if not data:\n",
        "                        break\n",
        "                    # Decrypt message using Signal Protocol\n",
        "                    plaintext = session_cipher.decrypt(data)\n",
        "                    logger.info(f\"Received message from {addr}: {plaintext.decode()}\")\n",
        "                    # ... (process plaintext message) ...\n",
        "                except Exception as e:\n",
        "                    logger.error(f\"Error handling client {addr}: {e}\")\n",
        "                    break\n",
        "\n",
        "            client.close()\n",
        "        except Exception as e:\n",
        "            logger.exception(f\"Error establishing Signal Protocol session with {addr}: {e}\")\n",
        "\n",
        "\n",
        "def main():\n",
        "    # ... (argument parsing) ...\n",
        "\n",
        "    scanner = SecurePortScanner()\n",
        "\n",
        "    # ... (user credentials generation) ...\n",
        "\n",
        "    if args.chat:\n",
        "        scanner.encrypted_chat_server()\n",
        "    else:\n",
        "        # ... (port scanning and changelog update) ...\n",
        "\n",
        "def install():\n",
        "    \"\"\"Encrypted installation with persistence\"\"\"\n",
        "    # ... (generate RSA key pair) ...\n",
        "    public_key, private_key = rsa.newkeys(2048)\n",
        "\n",
        "    # ... (encrypt sensitive data with public key) ...\n",
        "    encrypted_data = rsa.encrypt(data.encode(), public_key)\n",
        "\n",
        "    # ... (store encrypted data and public key securely) ...\n",
        "    with open(\"config.encrypted\", \"wb\") as f:\n",
        "        f.write(encrypted_data)\n",
        "    # ... (store public key securely) ...\n",
        "\n",
        "if __name__ == \"__main__\":\n",
        "    if os.path.exists(\"config.encrypted\"):\n",
        "        # If installed, run main function\n",
        "        main()\n",
        "    else:\n",
        "        # If not installed, run installation\n",
        "        install()\n",
        "\n",
        "\n"
      ]
    },
    {
      "cell_type": "markdown",
      "source": [
        "import google.generativeai as genai # Import the google.generativeai module to access its functions and classes\n",
        "from IPython.display import display\n",
        "from IPython.display import Markdown\n",
        "\n",
        "# Call the model and print the response.\n",
        "gemini = genai.GenerativeModel(model_name=model)\n",
        "\n",
        "response = gemini.generate_content(\n",
        "    contents,\n",
        "    generation_config=generation_config,\n",
        "    safety_settings=safety_settings,\n",
        "    stream=stream,\n",
        ")\n",
        "\n",
        "display(Markdown(response.text))\n"
      ],
      "metadata": {
        "id": "vYOzGY4Y34KJ"
      }
    },
    {
      "cell_type": "markdown",
      "metadata": {
        "id": "9c9d345e9868"
      },
      "source": [
        "<table class=\"tfo-notebook-buttons\" align=\"left\">\n",
        "  <td>\n",
        "    <a target=\"_blank\" href=\"https://ai.google.dev/gemini-api/docs\"><img src=\"https://ai.google.dev/static/site-assets/images/docs/notebook-site-button.png\" height=\"32\" width=\"32\" />Docs on ai.google.dev</a>\n",
        "  </td>\n",
        "  <td>\n",
        "    <a target=\"_blank\" href=\"https://github.com/google-gemini/cookbook/blob/main/quickstarts\"><img src=\"https://www.tensorflow.org/images/GitHub-Mark-32px.png\" />More notebooks in the Cookbook</a>\n",
        "  </td>\n",
        "</table>"
      ]
    }
  ],
  "metadata": {
    "colab": {
      "collapsed_sections": [
        "Tce3stUlHN0L"
      ],
      "name": "aistudio_gemini_prompt_freeform_nofiles.ipynb",
      "toc_visible": true,
      "provenance": []
    },
    "kernelspec": {
      "display_name": "Python 3",
      "name": "python3"
    }
  },
  "nbformat": 4,
  "nbformat_minor": 0
}